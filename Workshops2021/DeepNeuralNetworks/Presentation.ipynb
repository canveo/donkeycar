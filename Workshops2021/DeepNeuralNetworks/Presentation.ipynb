{
 "cells": [
  {
   "cell_type": "markdown",
   "id": "missing-firmware",
   "metadata": {},
   "source": [
    "# Welcome to!! #"
   ]
  },
  {
   "cell_type": "markdown",
   "id": "phantom-advance",
   "metadata": {},
   "source": [
    "![title](./media/slide1.jpeg)"
   ]
  },
  {
   "cell_type": "markdown",
   "id": "linear-phoenix",
   "metadata": {},
   "source": [
    "Lets check if you can use all libraries required!!"
   ]
  },
  {
   "cell_type": "code",
   "execution_count": 1,
   "id": "uniform-specification",
   "metadata": {},
   "outputs": [],
   "source": [
    "import tensorflow as tf\n",
    "from tensorflow.keras import datasets, layers, models\n",
    "import matplotlib.pyplot as plt\n",
    "import numpy as np\n",
    "import csv\n",
    "import pandas as pd\n",
    "import cv2\n",
    "import matplotlib.pyplot as plt"
   ]
  },
  {
   "cell_type": "markdown",
   "id": "apart-calculation",
   "metadata": {},
   "source": [
    "![title](./media/slide2.jpeg)"
   ]
  },
  {
   "cell_type": "code",
   "execution_count": null,
   "id": "operational-explorer",
   "metadata": {},
   "outputs": [],
   "source": [
    "# x: Area, y: Price\n",
    "x = np.array([10, 20, 30, 50, 70])\n",
    "y = np.array([ 600, 700, 1500, 1900, 2500 ])\n",
    "plt.plot(x, y, 'o')"
   ]
  },
  {
   "cell_type": "code",
   "execution_count": null,
   "id": "different-genre",
   "metadata": {},
   "outputs": [],
   "source": [
    "m, b = np.polyfit(x, y, 1) # m = slope, b=intercept\n",
    "plt.plot(x, y, 'o')\n",
    "plt.plot(x, m*x + b)"
   ]
  },
  {
   "cell_type": "markdown",
   "id": "basic-breakdown",
   "metadata": {},
   "source": [
    "Data probably should be extensive, and require, load using additional libraries."
   ]
  },
  {
   "cell_type": "markdown",
   "id": "close-irrigation",
   "metadata": {},
   "source": [
    "### CSV ###"
   ]
  },
  {
   "cell_type": "code",
   "execution_count": 2,
   "id": "royal-storm",
   "metadata": {},
   "outputs": [],
   "source": [
    "# fruit_label\tfruit_name\tfruit_subtype\tmass\twidth\theight\tcolor_score\n",
    "lines = []\n",
    "with open('./Book2.csv') as csvfile:\n",
    "    reader = csv.reader(csvfile, delimiter=';')\n",
    "    for line in reader:\n",
    "        lines.append(line)"
   ]
  },
  {
   "cell_type": "code",
   "execution_count": 3,
   "id": "devoted-reverse",
   "metadata": {},
   "outputs": [
    {
     "name": "stdout",
     "output_type": "stream",
     "text": [
      "(13, 7)\n"
     ]
    }
   ],
   "source": [
    "lines_array = np.array(lines)\n",
    "print(lines_array.shape)"
   ]
  },
  {
   "cell_type": "markdown",
   "id": "adjusted-italy",
   "metadata": {},
   "source": [
    "### Pandas ###"
   ]
  },
  {
   "cell_type": "code",
   "execution_count": 4,
   "id": "selected-piano",
   "metadata": {},
   "outputs": [
    {
     "data": {
      "text/html": [
       "<div>\n",
       "<style scoped>\n",
       "    .dataframe tbody tr th:only-of-type {\n",
       "        vertical-align: middle;\n",
       "    }\n",
       "\n",
       "    .dataframe tbody tr th {\n",
       "        vertical-align: top;\n",
       "    }\n",
       "\n",
       "    .dataframe thead th {\n",
       "        text-align: right;\n",
       "    }\n",
       "</style>\n",
       "<table border=\"1\" class=\"dataframe\">\n",
       "  <thead>\n",
       "    <tr style=\"text-align: right;\">\n",
       "      <th></th>\n",
       "      <th>fruitlabel</th>\n",
       "      <th>fruit_name</th>\n",
       "      <th>fruit_subtype</th>\n",
       "      <th>mass</th>\n",
       "      <th>width</th>\n",
       "      <th>height</th>\n",
       "      <th>color_score</th>\n",
       "    </tr>\n",
       "  </thead>\n",
       "  <tbody>\n",
       "    <tr>\n",
       "      <th>0</th>\n",
       "      <td>1</td>\n",
       "      <td>apple</td>\n",
       "      <td>granny_smith</td>\n",
       "      <td>192</td>\n",
       "      <td>8.4</td>\n",
       "      <td>7.3</td>\n",
       "      <td>0.55</td>\n",
       "    </tr>\n",
       "    <tr>\n",
       "      <th>1</th>\n",
       "      <td>1</td>\n",
       "      <td>apple</td>\n",
       "      <td>granny_smith</td>\n",
       "      <td>180</td>\n",
       "      <td>8.0</td>\n",
       "      <td>6.8</td>\n",
       "      <td>0.59</td>\n",
       "    </tr>\n",
       "    <tr>\n",
       "      <th>2</th>\n",
       "      <td>1</td>\n",
       "      <td>apple</td>\n",
       "      <td>granny_smith</td>\n",
       "      <td>176</td>\n",
       "      <td>7.4</td>\n",
       "      <td>7.2</td>\n",
       "      <td>0.60</td>\n",
       "    </tr>\n",
       "    <tr>\n",
       "      <th>3</th>\n",
       "      <td>2</td>\n",
       "      <td>mandarin</td>\n",
       "      <td>mandarin</td>\n",
       "      <td>86</td>\n",
       "      <td>6.2</td>\n",
       "      <td>4.7</td>\n",
       "      <td>0.80</td>\n",
       "    </tr>\n",
       "    <tr>\n",
       "      <th>4</th>\n",
       "      <td>2</td>\n",
       "      <td>mandarin</td>\n",
       "      <td>mandarin</td>\n",
       "      <td>84</td>\n",
       "      <td>6.0</td>\n",
       "      <td>4.6</td>\n",
       "      <td>0.79</td>\n",
       "    </tr>\n",
       "  </tbody>\n",
       "</table>\n",
       "</div>"
      ],
      "text/plain": [
       "   fruitlabel fruit_name fruit_subtype  mass  width  height  color_score\n",
       "0           1      apple  granny_smith   192    8.4     7.3         0.55\n",
       "1           1      apple  granny_smith   180    8.0     6.8         0.59\n",
       "2           1      apple  granny_smith   176    7.4     7.2         0.60\n",
       "3           2   mandarin      mandarin    86    6.2     4.7         0.80\n",
       "4           2   mandarin      mandarin    84    6.0     4.6         0.79"
      ]
     },
     "execution_count": 4,
     "metadata": {},
     "output_type": "execute_result"
    }
   ],
   "source": [
    "fruits = pd.read_table('./Book2.csv', delimiter=';')\n",
    "fruits.head()"
   ]
  },
  {
   "cell_type": "code",
   "execution_count": 5,
   "id": "endless-accuracy",
   "metadata": {},
   "outputs": [
    {
     "name": "stdout",
     "output_type": "stream",
     "text": [
      "(12, 7)\n"
     ]
    }
   ],
   "source": [
    "print(fruits.shape)"
   ]
  },
  {
   "cell_type": "code",
   "execution_count": 6,
   "id": "applicable-perry",
   "metadata": {},
   "outputs": [
    {
     "data": {
      "image/png": "[encoded data removed]",
      "text/plain": [
       "<Figure size 432x288 with 1 Axes>"
      ]
     },
     "metadata": {
      "needs_background": "light"
     },
     "output_type": "display_data"
    }
   ],
   "source": [
    "X1 = fruits[['mass', 'color_score']]\n",
    "X2 = fruits['fruitlabel']\n",
    "# X1.values\n",
    "# X2.values\n",
    "plt.scatter(X1.values[:,0],X1.values[:,1],c=X2.values)\n",
    "plt.show()"
   ]
  },
  {
   "cell_type": "markdown",
   "id": "emotional-condition",
   "metadata": {},
   "source": [
    "![title](./media/slide3.jpeg)"
   ]
  },
  {
   "cell_type": "code",
   "execution_count": 7,
   "id": "stylish-organizer",
   "metadata": {},
   "outputs": [],
   "source": [
    "import flask"
   ]
  },
  {
   "cell_type": "code",
   "execution_count": 8,
   "id": "collected-anger",
   "metadata": {},
   "outputs": [
    {
     "data": {
      "text/plain": [
       "'1.1.2'"
      ]
     },
     "execution_count": 8,
     "metadata": {},
     "output_type": "execute_result"
    }
   ],
   "source": [
    "flask.__version__"
   ]
  },
  {
   "cell_type": "code",
   "execution_count": null,
   "id": "historical-screening",
   "metadata": {},
   "outputs": [],
   "source": []
  }
 ],
 "metadata": {
  "kernelspec": {
   "display_name": "Python [conda env:DrivingCar]",
   "language": "python",
   "name": "conda-env-DrivingCar-py"
  },
  "language_info": {
   "codemirror_mode": {
    "name": "ipython",
    "version": 3
   },
   "file_extension": ".py",
   "mimetype": "text/x-python",
   "name": "python",
   "nbconvert_exporter": "python",
   "pygments_lexer": "ipython3",
   "version": "3.7.9"
  }
 },
 "nbformat": 4,
 "nbformat_minor": 5
}
